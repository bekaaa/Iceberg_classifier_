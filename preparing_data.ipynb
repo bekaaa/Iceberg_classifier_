{
 "cells": [
  {
   "cell_type": "code",
   "execution_count": 1,
   "metadata": {},
   "outputs": [],
   "source": [
    "import pandas as pd\n",
    "import numpy as np\n",
    "from sklearn.preprocessing import StandardScaler\n",
    "np.random.seed(0)"
   ]
  },
  {
   "cell_type": "code",
   "execution_count": 5,
   "metadata": {},
   "outputs": [
    {
     "name": "stdout",
     "output_type": "stream",
     "text": [
      " (1604, 75, 75) (1604, 75, 75) (1604, 1) (1604, 1) (1604, 75, 75, 4)\n"
     ]
    }
   ],
   "source": [
    "train = pd.read_json('./data/train.json')\n",
    "#-----------------------------------------\n",
    "train = train.sample(frac=1,random_state=0)\n",
    "# Scaling data to standard mean and variance.\n",
    "scaler0 = StandardScaler()\n",
    "scaler1 = StandardScaler()\n",
    "scaler2 = StandardScaler()\n",
    "scaler3 = StandardScaler()\n",
    "#------------------------------------------------------------------------\n",
    "train_band1 = np.array([ np.array(b).astype(np.float32).reshape(75,75) for b in train.band_1 ])\n",
    "train_band2 = np.array([ np.array(b).astype(np.float32).reshape(75,75) for b in train.band_2 ])\n",
    "train_band3 = train_band1 + train_band2\n",
    "train_band4 = train_band1 * train_band2\n",
    "train_labels = train.is_iceberg.values.reshape(-1,1)\n",
    "train_inc_angle = train.inc_angle.values.reshape(-1,1)\n",
    "#-----------------------------------------------------------------------------\n",
    "train = np.concatenate((train_band1.reshape(-1,75,75,1), train_band2.reshape(-1,75,75,1), \n",
    "                               train_band3.reshape(-1,75,75,1), train_band4.reshape(-1,75,75,1)), axis=3)\n",
    "#----------------------------------------------------------------------------------------\n",
    "train[:,:,:,0] = scaler0.fit_transform(train[:,:,:,0].reshape(-1,1)).reshape(-1,75,75)\n",
    "train[:,:,:,1] = scaler1.fit_transform(train[:,:,:,1].reshape(-1,1)).reshape(-1,75,75)\n",
    "train[:,:,:,2] = scaler2.fit_transform(train[:,:,:,2].reshape(-1,1)).reshape(-1,75,75)\n",
    "train[:,:,:,3] = scaler3.fit_transform(train[:,:,:,3].reshape(-1,1)).reshape(-1,75,75)\n",
    "#-----------------------------------------------------------------------------------------\n",
    "print train_band1.shape, train_band2.shape, train_labels.shape, train_inc_angle.shape, train.shape\n",
    "#--------------------------------------------------------------\n",
    "np.save('./data/train/band1.npy', train_band1)\n",
    "np.save('./data/train/band2.npy', train_band2)\n",
    "np.save('./data/train/train.npy', train)\n",
    "np.save('./data/train/labels.npy', train_labels)\n",
    "np.save('./data/train/inc_angle.npy', train_inc_angle)\n",
    "#-----------------------------------------------------------------\n",
    "del train, train_band1, train_band2, train_band3, train_band4, train_labels, train_inc_angle"
   ]
  },
  {
   "cell_type": "code",
   "execution_count": 6,
   "metadata": {},
   "outputs": [
    {
     "name": "stdout",
     "output_type": "stream",
     "text": [
      "(8424, 75, 75) (8424, 75, 75) (8424,) (8424, 1) (8424, 75, 75, 4)\n"
     ]
    }
   ],
   "source": [
    "test_data = pd.read_json('./data/test.json')\n",
    "#-------------------------------------------\n",
    "test_band1 = np.array([ np.array(b).astype(np.float32).reshape(75,75) for b in test_data.band_1 ])\n",
    "test_band2 = np.array([ np.array(b).astype(np.float32).reshape(75,75) for b in test_data.band_2 ])\n",
    "test_band3 = test_band1 + test_band2\n",
    "test_band4 = test_band1 * test_band2\n",
    "test_ids = test_data['id']\n",
    "test_inc_angle = test_data.inc_angle.values.reshape(-1,1)\n",
    "#-------------------------------------------------------------------\n",
    "test = np.concatenate((test_band1.reshape(-1,75,75,1), test_band2.reshape(-1,75,75,1),\n",
    "                              test_band3.reshape(-1,75,75,1), test_band4.reshape(-1,75,75,1)), axis=3)\n",
    "#-------------------------------------------------------------------------\n",
    "test[:,:,:,0] = scaler0.transform(test[:,:,:,0].reshape(-1,1)).reshape(-1,75,75)\n",
    "test[:,:,:,1] = scaler1.transform(test[:,:,:,1].reshape(-1,1)).reshape(-1,75,75)\n",
    "test[:,:,:,2] = scaler2.transform(test[:,:,:,2].reshape(-1,1)).reshape(-1,75,75)\n",
    "test[:,:,:,3] = scaler3.transform(test[:,:,:,3].reshape(-1,1)).reshape(-1,75,75)\n",
    "#------------------------------------------------------------\n",
    "print test_band1.shape, test_band2.shape, test_ids.shape, test_inc_angle.shape, test.shape\n",
    "#------------------------------------------\n",
    "np.save('./data/test/band1.npy', test_band1)\n",
    "np.save('./data/test/band2.npy', test_band2)\n",
    "np.save('./data/test/test.npy', test)\n",
    "np.save('./data/test/ids.npy', test_ids)\n",
    "np.save('./data/test/inc_angle.npy', test_inc_angle)\n",
    "#------------------------------------------------------\n",
    "del test, test_band1, test_band2, test_band3, test_ids, test_inc_angle"
   ]
  },
  {
   "cell_type": "code",
   "execution_count": null,
   "metadata": {},
   "outputs": [],
   "source": []
  },
  {
   "cell_type": "markdown",
   "metadata": {},
   "source": [
    "---------\n"
   ]
  }
 ],
 "metadata": {
  "kernelspec": {
   "display_name": "Python 2",
   "language": "python",
   "name": "python2"
  },
  "language_info": {
   "codemirror_mode": {
    "name": "ipython",
    "version": 2
   },
   "file_extension": ".py",
   "mimetype": "text/x-python",
   "name": "python",
   "nbconvert_exporter": "python",
   "pygments_lexer": "ipython2",
   "version": "2.7.14"
  }
 },
 "nbformat": 4,
 "nbformat_minor": 2
}
