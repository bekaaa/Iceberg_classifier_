{
 "cells": [
  {
   "cell_type": "code",
   "execution_count": 1,
   "metadata": {},
   "outputs": [],
   "source": [
    "import pandas as pd\n",
    "import numpy as np\n",
    "np.random.seed(0)"
   ]
  },
  {
   "cell_type": "code",
   "execution_count": 2,
   "metadata": {},
   "outputs": [],
   "source": [
    "train_data = pd.read_json('./data/train.json')\n",
    "#test_data = pd.read_json('./data/test.json')"
   ]
  },
  {
   "cell_type": "code",
   "execution_count": 6,
   "metadata": {},
   "outputs": [
    {
     "name": "stdout",
     "output_type": "stream",
     "text": [
      " (1604, 75, 75) (1604, 75, 75) (1604, 1) (1604, 1) (1604, 75, 75, 2)\n"
     ]
    }
   ],
   "source": [
    "train_data = train_data.sample(frac=1,random_state=0)\n",
    "\n",
    "train_band1 = np.array([ np.array(b).astype(np.float32).reshape(75,75) for b in train_data.band_1 ])\n",
    "train_band2 = np.array([ np.array(b).astype(np.float32).reshape(75,75) for b in train_data.band_2 ])\n",
    "\n",
    "train_labels = train_data.is_iceberg.values.reshape(-1,1)\n",
    "train_inc_angle = train_data.inc_angle.values.reshape(-1,1)\n",
    "\n",
    "train_dataset = np.concatenate((train_band1.reshape(-1,75,75,1), train_band2.reshape(-1,75,75,1)), axis=3)\n",
    "\n",
    "print train_band1.shape, train_band2.shape, train_labels.shape, train_inc_angle.shape, train_dataset.shape\n",
    "\n",
    "\n",
    "np.save('./data/train/band1.npy', train_band1)\n",
    "np.save('./data/train/band2.npy', train_band2)\n",
    "np.save('./data/train/train_dataset.npy', train_dataset)\n",
    "\n",
    "np.save('./data/train/labels.npy', train_labels)\n",
    "np.save('./data/train/inc_angle.npy', train_inc_angle)\n"
   ]
  },
  {
   "cell_type": "code",
   "execution_count": 4,
   "metadata": {},
   "outputs": [
    {
     "name": "stdout",
     "output_type": "stream",
     "text": [
      "(8424, 75, 75) (8424, 75, 75) (8424,) (8424, 1) (8424, 75, 75, 2)\n"
     ]
    }
   ],
   "source": [
    "test_band1 = np.array([ np.array(b).astype(np.float32).reshape(75,75) for b in test_data.band_1 ])\n",
    "test_band2 = np.array([ np.array(b).astype(np.float32).reshape(75,75) for b in test_data.band_2 ])\n",
    "\n",
    "test_ids = test_data['id']\n",
    "test_inc_angle = test_data.inc_angle.values.reshape(-1,1)\n",
    "\n",
    "test_dataset = np.concatenate((test_band1.reshape(-1,75,75,1), test_band2.reshape(-1,75,75,1)), axis=3)\n",
    "\n",
    "print test_band1.shape, test_band2.shape, test_ids.shape, test_inc_angle.shape, test_dataset.shape\n",
    "\n",
    "\n",
    "np.save('./data/test/band1.npy', test_band1)\n",
    "np.save('./data/test/band2.npy', test_band2)\n",
    "np.save('./data/test/train_dataset.npy', test_dataset)\n",
    "\n",
    "np.save('./data/test/ids.npy', test_ids)\n",
    "np.save('./data/test/inc_angle.npy', test_inc_angle)\n"
   ]
  },
  {
   "cell_type": "code",
   "execution_count": null,
   "metadata": {},
   "outputs": [],
   "source": []
  },
  {
   "cell_type": "markdown",
   "metadata": {},
   "source": [
    "---------\n"
   ]
  }
 ],
 "metadata": {
  "kernelspec": {
   "display_name": "Python 2",
   "language": "python",
   "name": "python2"
  },
  "language_info": {
   "codemirror_mode": {
    "name": "ipython",
    "version": 2
   },
   "file_extension": ".py",
   "mimetype": "text/x-python",
   "name": "python",
   "nbconvert_exporter": "python",
   "pygments_lexer": "ipython2",
   "version": "2.7.14"
  }
 },
 "nbformat": 4,
 "nbformat_minor": 2
}
