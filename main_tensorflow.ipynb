{
 "cells": [
  {
   "cell_type": "code",
   "execution_count": 1,
   "metadata": {},
   "outputs": [],
   "source": [
    "import pandas as pd\n",
    "import numpy as np\n",
    "import tensorflow as tf\n",
    "import matplotlib.pyplot as plt\n",
    "from sklearn import metrics\n",
    "from sklearn.model_selection import train_test_split\n",
    "from sklearn.preprocessing import StandardScaler\n",
    "from logger import logger\n",
    "import os\n",
    "import cv2\n",
    "%matplotlib inline\n",
    "np.random.seed(0)\n",
    "tf.set_random_seed(0)"
   ]
  },
  {
   "cell_type": "code",
   "execution_count": 2,
   "metadata": {},
   "outputs": [],
   "source": [
    "train = np.load('./data/train/train_dataset.npy')\n",
    "labels = np.load('./data/train/labels.npy')"
   ]
  },
  {
   "cell_type": "code",
   "execution_count": 3,
   "metadata": {},
   "outputs": [
    {
     "name": "stdout",
     "output_type": "stream",
     "text": [
      "(1604, 75, 75, 4)\n"
     ]
    }
   ],
   "source": [
    "# Scaling data to standard mean and variance.\n",
    "scaler0 = StandardScaler()\n",
    "scaler1 = StandardScaler()\n",
    "scaler2 = StandardScaler()\n",
    "scaler3 = StandardScaler()\n",
    "\n",
    "train[:,:,:,0] = scaler0.fit_transform(train[:,:,:,0].reshape(-1,1)).reshape(-1,75,75)\n",
    "train[:,:,:,1] = scaler1.fit_transform(train[:,:,:,1].reshape(-1,1)).reshape(-1,75,75)\n",
    "train[:,:,:,2] = scaler2.fit_transform(train[:,:,:,2].reshape(-1,1)).reshape(-1,75,75)\n",
    "train[:,:,:,3] = scaler3.fit_transform(train[:,:,:,3].reshape(-1,1)).reshape(-1,75,75)\n",
    "\n",
    "scalers = (scaler0, scaler1, scaler2, scaler3)\n",
    "print train.shape"
   ]
  },
  {
   "cell_type": "code",
   "execution_count": 4,
   "metadata": {},
   "outputs": [],
   "source": [
    "def prepare_test_data() :\n",
    "    global scaler0, scaler1, scaler2, scaler3\n",
    "    test_dataset = np.load('./data/test/test_dataset.npy')\n",
    "    test_ids = np.load('./data/test/ids.npy')\n",
    "\n",
    "    test_dataset[:,:,:,0] = scaler0.transform(test_dataset[:,:,:,0].reshape(-1,1)).reshape(-1,75,75)\n",
    "    test_dataset[:,:,:,1] = scaler1.transform(test_dataset[:,:,:,1].reshape(-1,1)).reshape(-1,75,75)\n",
    "    test_dataset[:,:,:,2] = scaler2.transform(test_dataset[:,:,:,2].reshape(-1,1)).reshape(-1,75,75)\n",
    "    test_dataset[:,:,:,3] = scaler3.transform(test_dataset[:,:,:,3].reshape(-1,1)).reshape(-1,75,75)\n",
    "    \n",
    "    #test_dataset = test_dataset[:,:,:,2:4]\n",
    "    print test_dataset.shape\n",
    "    return test_dataset, test_ids"
   ]
  },
  {
   "cell_type": "code",
   "execution_count": 5,
   "metadata": {},
   "outputs": [
    {
     "name": "stdout",
     "output_type": "stream",
     "text": [
      "(4812, 75, 75, 4)\n",
      "(4812, 1)\n"
     ]
    }
   ],
   "source": [
    "# DATA augmentation. from kerenel, https://www.kaggle.com/vincento/keras-starter-4l-0-1936-lb-icebergchallenge/code\n",
    "def get_more_images(imgs):\n",
    "    \n",
    "    more_images = []\n",
    "    vert_flip_imgs = []\n",
    "    hori_flip_imgs = []\n",
    "      \n",
    "    for i in range(0,imgs.shape[0]):\n",
    "        a=imgs[i,:,:,0]\n",
    "        b=imgs[i,:,:,1]\n",
    "        c=imgs[i,:,:,2]\n",
    "        d=imgs[i,:,:,3]\n",
    "        \n",
    "        av=cv2.flip(a,1)\n",
    "        ah=cv2.flip(a,0)\n",
    "        bv=cv2.flip(b,1)\n",
    "        bh=cv2.flip(b,0)\n",
    "        cv=cv2.flip(c,1)\n",
    "        ch=cv2.flip(c,0)\n",
    "        dv=cv2.flip(d,1)\n",
    "        dh=cv2.flip(d,0)\n",
    "        \n",
    "        vert_flip_imgs.append(np.dstack((av, bv, cv, dv)))\n",
    "        hori_flip_imgs.append(np.dstack((ah, bh, ch, dh)))\n",
    "      \n",
    "    v = np.array(vert_flip_imgs)\n",
    "    h = np.array(hori_flip_imgs)\n",
    "       \n",
    "    more_images = np.concatenate((imgs,v,h))\n",
    "    \n",
    "    return more_images\n",
    "\n",
    "train = get_more_images(train)\n",
    "labels = np.concatenate((labels,labels,labels))\n",
    "print train.shape\n",
    "print labels.shape"
   ]
  },
  {
   "cell_type": "code",
   "execution_count": 6,
   "metadata": {},
   "outputs": [
    {
     "name": "stdout",
     "output_type": "stream",
     "text": [
      "(4330, 75, 75, 4) (4330, 1)\n",
      "(482, 75, 75, 4) (482, 1)\n"
     ]
    }
   ],
   "source": [
    "# getting validation set\n",
    "train_dataset, valid_dataset, train_labels, valid_labels = train_test_split(train, labels, test_size=.1)\n",
    "\n",
    "\n",
    "print train_dataset.shape, train_labels.shape\n",
    "print valid_dataset.shape, valid_labels.shape\n",
    "\n",
    "del train, labels"
   ]
  },
  {
   "cell_type": "markdown",
   "metadata": {},
   "source": [
    "------------------------"
   ]
  },
  {
   "cell_type": "code",
   "execution_count": 7,
   "metadata": {},
   "outputs": [
    {
     "name": "stdout",
     "output_type": "stream",
     "text": [
      " ** An iceberg\n"
     ]
    },
    {
     "data": {
      "image/png": "[encoded data removed]",
      "text/plain": [
       "<matplotlib.figure.Figure at 0x7f7a62685490>"
      ]
     },
     "metadata": {},
     "output_type": "display_data"
    }
   ],
   "source": [
    "plt.rcParams[\"figure.figsize\"] = [15,15]\n",
    "index = np.random.randint(0, train_dataset.shape[0])\n",
    "f, axarr = plt.subplots(1,4)\n",
    "_ = axarr[0].imshow(train_dataset[index,:,:,0])\n",
    "_ = axarr[1].imshow(train_dataset[index,:,:,1])\n",
    "_ = axarr[2].imshow(train_dataset[index,:,:,2])\n",
    "_ = axarr[3].imshow(train_dataset[index,:,:,3])\n",
    "\n",
    "print \" ** A ship\" if train_labels[index,0] == 1 else \" ** An iceberg\""
   ]
  },
  {
   "cell_type": "code",
   "execution_count": 8,
   "metadata": {},
   "outputs": [],
   "source": [
    "#train_dataset = train_dataset[:,:,:,2:4]\n",
    "#valid_dataset = valid_dataset[:,:,:,2:4]\n"
   ]
  },
  {
   "cell_type": "code",
   "execution_count": 9,
   "metadata": {},
   "outputs": [],
   "source": [
    "def extract_batch(i):\n",
    "    \n",
    "    start_idx = (i * batch_size) % (train_dataset.shape[0] - batch_size )\n",
    "    end_idx = start_idx + batch_size\n",
    "    batch_data = train_dataset[ start_idx : end_idx ]\n",
    "    batch_labels = train_labels[ start_idx : end_idx ]\n",
    "    \n",
    "    return batch_data, batch_labels.astype(np.float32)"
   ]
  },
  {
   "cell_type": "code",
   "execution_count": 10,
   "metadata": {},
   "outputs": [],
   "source": [
    "def create_placeholders(n_H, n_W, n_C, n_y, name1='X', name2='Y'):\n",
    "    '''\n",
    "    Create X and Y placeholder, ready for each minibatch\n",
    "    input : \n",
    "        n_H : height of input image\n",
    "        n_W : width of input image\n",
    "        n_C : number of channels per image\n",
    "        n_y  : number of classes\n",
    "    '''\n",
    "    X = tf.placeholder(tf.float32, [None, n_H, n_W, n_C], name1)\n",
    "    Y = tf.placeholder(tf.float32, [None, n_y], name2)\n",
    "    \n",
    "    return X,Y"
   ]
  },
  {
   "cell_type": "code",
   "execution_count": 11,
   "metadata": {},
   "outputs": [],
   "source": [
    "def convolution_layer(input_, training,\n",
    "                      filters, kernel_size, conv_strides, \n",
    "                      pool_size, pool_strides,\n",
    "                      dropout_rate) :\n",
    "    \n",
    "    with tf.variable_scope('conv_layer'):\n",
    "                \n",
    "        Z = tf.layers.conv2d(input_, filters, kernel_size, conv_strides, 'SAME', activation=tf.nn.relu)\n",
    "        \n",
    "        #Z = tf.layers.batch_normalization(Z)\n",
    "        \n",
    "        #Z = tf.layers.max_pooling2d(Z, pool_size, pool_strides, 'SAME')\n",
    "        \n",
    "        Z = tf.layers.dropout(Z, dropout_rate, training=training)\n",
    "   \n",
    "    return Z"
   ]
  },
  {
   "cell_type": "code",
   "execution_count": null,
   "metadata": {},
   "outputs": [],
   "source": []
  },
  {
   "cell_type": "code",
   "execution_count": 12,
   "metadata": {},
   "outputs": [],
   "source": [
    "def compute_loss(Z, Y):\n",
    "    loss = tf.reduce_mean(tf.nn.sigmoid_cross_entropy_with_logits(logits=Z, labels=Y))\n",
    "    return loss"
   ]
  },
  {
   "cell_type": "code",
   "execution_count": 13,
   "metadata": {},
   "outputs": [],
   "source": [
    "def optimize(loss, global_step):\n",
    "    optimizer = tf.train.AdamOptimizer(learning_rate)\n",
    "    optimizer = optimizer.minimize(loss, global_step=global_step) \n",
    "    return optimizer"
   ]
  },
  {
   "cell_type": "code",
   "execution_count": 14,
   "metadata": {},
   "outputs": [],
   "source": [
    "def get_summary(loss, tf_valid_loss):\n",
    "    tf.summary.scalar('loss', loss)\n",
    "    tf.summary.scalar('valid_loss', tf_valid_loss)\n",
    "    return tf.summary.merge_all()"
   ]
  },
  {
   "cell_type": "code",
   "execution_count": 15,
   "metadata": {},
   "outputs": [],
   "source": [
    "def predict_test(sub_id='nan'):\n",
    "    data, ids = prepare_test_data()\n",
    "    #f = open('./data/submission217.csv', 'wb')\n",
    "    #f.write('id,is_iceberg\\n')\n",
    "    print \"\\npredicting test dataset\"\n",
    "    step = 200\n",
    "    n_steps = data.shape[0] / step\n",
    "    all_preds = None\n",
    "    for sind in range(0,data.shape[0], step) :\n",
    "        print \"step\", sind/step, 'of', n_steps, '....'\n",
    "        #-----------------------------------\n",
    "        eind = sind + step\n",
    "        if eind > data.shape[0] :\n",
    "            eind = data.shape[0]\n",
    "         #--------------------------------------\n",
    "        preds = sess.run(tf_test_pred, feed_dict={X_test : data[sind:eind]})\n",
    "        try :\n",
    "            all_preds = np.concatenate((all_preds,preds),axis=0)\n",
    "        except :\n",
    "            all_preds = preds\n",
    "    #----------------------------------------------------------------------\n",
    "    sub_df = pd.DataFrame({'id':ids, 'is_iceberg':all_preds.reshape((-1))})\n",
    "    sub_df.to_csv('./data/submissions/submission-{}'.format(sub_id), index=False)\n",
    "    #    for e1, e2 in zip(test_ids[sind:eind], test_pred):\n",
    "    #        f.write('{},{}\\n'.format(e1,e2[0]))\n",
    "    #f.close()\n",
    "    print \"finished predicting\\n\"\n",
    "    return"
   ]
  },
  {
   "cell_type": "code",
   "execution_count": 16,
   "metadata": {},
   "outputs": [],
   "source": [
    "def inference(X, training=True):\n",
    "    ts = ''\n",
    "    with tf.variable_scope('block_1'):\n",
    "        ts += 'block 1 :\\n'\n",
    "        L = tf.layers.conv2d(X, 64, 5, activation=tf.nn.relu)\n",
    "        ts += 'conv2d : c=64, f=3, shape={}\\n'.format(L.shape)\n",
    "        L = tf.layers.batch_normalization(L)\n",
    "        L = tf.layers.conv2d(L, 64, 5, activation=tf.nn.relu)\n",
    "        ts += 'conv2d : c=64, f=3, shape={}\\n'.format(L.shape)\n",
    "        L = tf.layers.batch_normalization(L)\n",
    "        L = tf.layers.max_pooling2d(L, 2, 2)\n",
    "        L = tf.layers.dropout(L)\n",
    "        ts += 'maxpooling : f=2, s=2, shape={}\\n'.format(L.shape)\n",
    "    with tf.variable_scope('block_2'):\n",
    "        ts += '======================================\\n'\n",
    "        ts += 'block2 : \\n'\n",
    "        L = tf.layers.conv2d(L, 128, 5, activation=tf.nn.relu)\n",
    "        ts += 'conv2d : c=128, f=3, shape={}\\n'.format(L.shape)\n",
    "        L = tf.layers.batch_normalization(L)\n",
    "        L = tf.layers.conv2d(L, 128, 5, activation=tf.nn.relu)\n",
    "        ts += 'conv2d : c=128, f=3, shape={}\\n'.format(L.shape)\n",
    "        L = tf.layers.batch_normalization(L)\n",
    "        L = tf.layers.max_pooling2d(L, 2, 2)\n",
    "        ts += 'maxpooling : f=2, s=2, shape={}\\n'.format(L.shape)\n",
    "        L = tf.layers.dropout(L)\n",
    "    #with tf.variable_scope('block_3'):\n",
    "        #ts += '======================================\\n'\n",
    "        #ts += 'block3 : \\n'\n",
    "        #L = tf.layers.conv2d(L, 256, 3, activation=tf.nn.relu)\n",
    "        #ts += 'conv2d : c=256, f=3, shape={}\\n'.format(L.shape)\n",
    "        #L = tf.layers.conv2d(L, 256, 3, activation=tf.nn.relu)\n",
    "        #ts += 'conv2d : c=256, f=3, shape={}\\n'.format(L.shape)\n",
    "        #L = tf.layers.conv2d(L, 256, 3, activation=tf.nn.relu)\n",
    "        #ts += 'conv2d : c=256, f=3, shape={}\\n'.format(L.shape)\n",
    "        #L = tf.layers.max_pooling2d(L, 2, 2)\n",
    "        #ts += 'maxpooling : f=2, s=2, shape={}\\n'.format(L.shape)\n",
    "    with tf.variable_scope('fully_connected'):\n",
    "        ts += '======================================\\n'\n",
    "        ts += 'Fully connected : \\n'\n",
    "        L = tf.layers.flatten(L)\n",
    "        ts += 'Flatten : shape={}\\n'.format(L.shape)\n",
    "        L = tf.contrib.layers.fully_connected(L, 8, tf.nn.relu)\n",
    "        L = tf.layers.batch_normalization(L)\n",
    "        L = tf.layers.dropout(L)\n",
    "        ts += 'fully connected : n = 1024, shape={}\\n'.format(L.shape)\n",
    "        #L = tf.contrib.layers.fully_connected(L, 512, tf.nn.relu)\n",
    "        #ts += 'fully connected : n = 512, shape={}\\n'.format(L.shape)\n",
    "        L = tf.contrib.layers.fully_connected(L, 1, None)\n",
    "        ts += 'fully connected : n = 1, shape={}\\n'.format(L.shape)\n",
    "    if training: print ts\n",
    "    return L"
   ]
  },
  {
   "cell_type": "code",
   "execution_count": 17,
   "metadata": {},
   "outputs": [
    {
     "name": "stdout",
     "output_type": "stream",
     "text": [
      "block 1 :\n",
      "conv2d : c=64, f=3, shape=(?, 71, 71, 64)\n",
      "conv2d : c=64, f=3, shape=(?, 67, 67, 64)\n",
      "maxpooling : f=2, s=2, shape=(?, 33, 33, 64)\n",
      "======================================\n",
      "block2 : \n",
      "conv2d : c=128, f=3, shape=(?, 29, 29, 128)\n",
      "conv2d : c=128, f=3, shape=(?, 25, 25, 128)\n",
      "maxpooling : f=2, s=2, shape=(?, 12, 12, 128)\n",
      "======================================\n",
      "Fully connected : \n",
      "Flatten : shape=(?, 18432)\n",
      "fully connected : n = 1024, shape=(?, 8)\n",
      "fully connected : n = 1, shape=(?, 1)\n",
      "\n"
     ]
    }
   ],
   "source": [
    "# Defining Model graph :\n",
    "learning_rate = 0.001\n",
    "n_H, n_W, n_C = train_dataset.shape[1:]\n",
    "n_y = train_labels.shape[1]\n",
    "\n",
    "graph = tf.Graph()\n",
    "with graph.as_default():\n",
    "    \n",
    "    with tf.variable_scope('input_data'):\n",
    "        X, Y = create_placeholders(n_H, n_W, n_C, n_y)\n",
    "        X_valid, Y_valid = create_placeholders(n_H, n_W, n_C, n_y, 'X_valid', 'Y_valid')\n",
    "        X_test = tf.placeholder(tf.float32, [None, n_H, n_W, n_C], name='X_test')\n",
    "        \n",
    "    with tf.variable_scope('forward_propogation', reuse=tf.AUTO_REUSE):\n",
    "        Z = inference(X)\n",
    "        Z_valid = inference(X_valid, training=False)\n",
    "        Z_test = inference(X_test, training=False)\n",
    "    \n",
    "    with tf.variable_scope('loss'):\n",
    "        tf_loss = compute_loss(Z, Y)\n",
    "        tf_loss_valid = compute_loss(Z_valid, Y_valid)\n",
    "    \n",
    "    with tf.variable_scope('training'):\n",
    "        global_step = tf.Variable(0, name='global_step',trainable=False)\n",
    "        optimizer = optimize(tf_loss, global_step)\n",
    "    \n",
    "    with tf.variable_scope('summary'):\n",
    "        #summary_writer = tf.summary.FileWriter('./tmp/logs/', graph)\n",
    "        summary = get_summary(tf_loss, tf_loss_valid)\n",
    "    \n",
    "    with tf.variable_scope('model_saver'):\n",
    "        saver = tf.train.Saver()\n",
    "    \n",
    "    with tf.variable_scope('test_predictions'):\n",
    "        tf_test_pred = tf.sigmoid(Z_test)\n",
    "    "
   ]
  },
  {
   "cell_type": "code",
   "execution_count": null,
   "metadata": {
    "scrolled": true
   },
   "outputs": [],
   "source": [
    "# defining Session to run all the above.\n",
    "# displaying paramters\n",
    "avg_loss = 0\n",
    "avg_valid_loss = 0\n",
    "display_step = 10\n",
    "#----------------------------\n",
    "saving_step = 50\n",
    "batch_size = 32\n",
    "epoches = 4000\n",
    "# early stopping parameters\n",
    "best_loss = 999\n",
    "ESRounds = 500\n",
    "rounds = 0\n",
    "#-------------------------\n",
    "# logging\n",
    "logging = True\n",
    "log = None\n",
    "#----------------------------\n",
    "# intialize logfile\n",
    "def init_log():\n",
    "    global log\n",
    "    file_index = sorted([int(f.split('.')[0]) for f in os.listdir('./tmp/onrun-log/')])[-1] + 1\n",
    "    log = logger('{}.log'.format(file_index), log_dir='./tmp/onrun-log/')\n",
    "    log.add(\"epoches = {}, batch_size = {}, ESRounds = {}, training shape = {}, validation shape = {},\"\n",
    "            \" Run on {}\\n------\"\\\n",
    "            .format(epoches,batch_size,ESRounds,train_dataset.shape,valid_dataset.shape,np.datetime64('now')))\n",
    "    print \"Log file is ready.\"\n",
    "#------------------------------\n",
    "def trainer(sess):\n",
    "    global avg_loss, avg_valid_loss, display_step, batch_size, epoches, best_loss, ESRounds, rounds\n",
    "    \n",
    "    tf.global_variables_initializer().run()\n",
    "\n",
    "    summary_writer = tf.summary.FileWriter('./tmp/logs/', sess.graph)\n",
    "    \n",
    "    for i in range(epoches):\n",
    "        \n",
    "        batch_data, batch_labels = extract_batch(i)\n",
    "        feed_dict = { X : batch_data, Y : batch_labels}#, X_valid : valid_dataset, Y_valid : valid_labels }\n",
    "        _, l = sess.run([optimizer, tf_loss], feed_dict=feed_dict)\n",
    "        avg_loss += l\n",
    "        #avg_valid_loss += valid_loss\n",
    "        \n",
    "        # Print loss after each N display steps, also add summary to file.\n",
    "        if i % display_step == 0 :\n",
    "            avg_loss /= display_step\n",
    "            #avg_valid_loss /= display_step\n",
    "            #feed_dict[X_valid] = valid_dataset\n",
    "            #feed_dict[Y_valid] = valid_labels\n",
    "            #summary_str = sess.run(summary, feed_dict=feed_dict)\n",
    "            #_ = summary_writer.add_summary(summary_str, sess.run(global_step))\n",
    "            avg_valid_loss = sess.run(tf_loss_valid, {X_valid:valid_dataset, Y_valid:valid_labels})\n",
    "            print \"Finished {} steps [{:.3g}%],\\t loss : {},\\t valid loss : {} \"\\\n",
    "                               .format(i,1.*i*batch_size/train_dataset.shape[0],avg_loss,avg_valid_loss)\n",
    "            if logging : log.add(\"Finished {} steps [{:.3g}%],\\t loss : {},\\t valid loss : {} \"\\\n",
    "                               .format(i,1.*i*batch_size/train_dataset.shape[0],avg_loss,avg_valid_loss))\n",
    "            avg_loss = 0\n",
    "            #avg_valid_loss = 0\n",
    "            valid_loss = avg_valid_loss\n",
    "        # ADD early stopping Step.\n",
    "        if valid_loss < best_loss :\n",
    "            print \"New best loss : {}, on round : {} and step : {}\".format(valid_loss,rounds,i)\n",
    "            log.add(\"New best loss : {}, on round : {} and step : {}\".format(valid_loss,rounds,i))\n",
    "            best_loss = valid_loss\n",
    "            rounds = 0\n",
    "            _ = saver.save(sess, './tmp/model_checkpoints/model-ckpt-best')\n",
    "        else :\n",
    "            if rounds == ESRounds :\n",
    "                print \"reached the specified early stopping rounds [{}]\\n.Stopping Model.\".format(ESRounds)\n",
    "                if logging : log.add(\"reached the specified early stopping rounds [{}]\\n.Stopping Model.\"\\\n",
    "                                     .format(ESRounds))\n",
    "                summary_writer.close()\n",
    "                break\n",
    "            rounds += 1\n",
    "        \n",
    "        #if i % saving_step == 0 and i > 0:\n",
    "        #    print \"Saving model\"\n",
    "        #    _ = saver.save(sess, './tmp/model_checkpoints/model-checkpoint', global_step=global_step)\n",
    "    # predict test_data\n",
    "    #predict_test()\n",
    "    summary_writer.close()\n",
    "\n",
    "    "
   ]
  },
  {
   "cell_type": "code",
   "execution_count": null,
   "metadata": {
    "scrolled": true
   },
   "outputs": [
    {
     "name": "stdout",
     "output_type": "stream",
     "text": [
      "Log file is ready.\n",
      "Finished 0 steps [0%],\t loss : 0.067468893528,\t valid loss : 3.45542812347 \n",
      "New best loss : 3.45542812347, on round : 0 and step : 0\n",
      "Finished 10 steps [0.0739%],\t loss : 1.03261901736,\t valid loss : 0.691839516163 \n",
      "New best loss : 0.691839516163, on round : 9 and step : 10\n",
      "Finished 20 steps [0.148%],\t loss : 0.673747485876,\t valid loss : 0.69245827198 \n",
      "Finished 30 steps [0.222%],\t loss : 0.676819723845,\t valid loss : 0.695423066616 \n",
      "Finished 40 steps [0.296%],\t loss : 0.671017062664,\t valid loss : 0.662434518337 \n",
      "New best loss : 0.662434518337, on round : 29 and step : 40\n",
      "Finished 50 steps [0.37%],\t loss : 0.638060081005,\t valid loss : 0.643464624882 \n",
      "New best loss : 0.643464624882, on round : 9 and step : 50\n",
      "Finished 60 steps [0.443%],\t loss : 0.652924984694,\t valid loss : 0.650653660297 \n",
      "Finished 70 steps [0.517%],\t loss : 0.622969198227,\t valid loss : 0.624059319496 \n",
      "New best loss : 0.624059319496, on round : 19 and step : 70\n",
      "Finished 80 steps [0.591%],\t loss : 0.589323937893,\t valid loss : 0.593915581703 \n",
      "New best loss : 0.593915581703, on round : 9 and step : 80\n",
      "Finished 90 steps [0.665%],\t loss : 0.605455189943,\t valid loss : 0.619053721428 \n",
      "Finished 100 steps [0.739%],\t loss : 0.614541751146,\t valid loss : 0.663554668427 \n",
      "Finished 110 steps [0.813%],\t loss : 0.617872339487,\t valid loss : 0.694342434406 \n",
      "Finished 120 steps [0.887%],\t loss : 0.557132819295,\t valid loss : 0.563787639141 \n",
      "New best loss : 0.563787639141, on round : 39 and step : 120\n",
      "Finished 130 steps [0.961%],\t loss : 0.54946244657,\t valid loss : 0.541059076786 \n",
      "New best loss : 0.541059076786, on round : 9 and step : 130\n"
     ]
    }
   ],
   "source": [
    "train = True\n",
    "#----------------------------------\n",
    "with tf.Session(graph=graph) as sess :\n",
    "    if train :\n",
    "        if logging : init_log()\n",
    "        trainer(sess)\n",
    "    else : # load best ckpt and predict test data\n",
    "        _ = saver.restore(sess, './tmp/model_checkpoints/model-ckpt-best')\n",
    "        valid_loss = sess.run(tf_loss_valid, {X_valid:valid_dataset, Y_valid:valid_labels})\n",
    "        print valid_loss\n",
    "        predict_test()"
   ]
  },
  {
   "cell_type": "code",
   "execution_count": null,
   "metadata": {
    "scrolled": false
   },
   "outputs": [],
   "source": []
  },
  {
   "cell_type": "code",
   "execution_count": null,
   "metadata": {},
   "outputs": [],
   "source": []
  },
  {
   "cell_type": "code",
   "execution_count": null,
   "metadata": {},
   "outputs": [],
   "source": []
  },
  {
   "cell_type": "code",
   "execution_count": null,
   "metadata": {},
   "outputs": [],
   "source": []
  }
 ],
 "metadata": {
  "kernelspec": {
   "display_name": "Python 2",
   "language": "python",
   "name": "python2"
  },
  "language_info": {
   "codemirror_mode": {
    "name": "ipython",
    "version": 2
   },
   "file_extension": ".py",
   "mimetype": "text/x-python",
   "name": "python",
   "nbconvert_exporter": "python",
   "pygments_lexer": "ipython2",
   "version": "2.7.14"
  }
 },
 "nbformat": 4,
 "nbformat_minor": 2
}
