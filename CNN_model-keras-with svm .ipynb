{
 "cells": [
  {
   "cell_type": "code",
   "execution_count": 1,
   "metadata": {},
   "outputs": [
    {
     "name": "stderr",
     "output_type": "stream",
     "text": [
      "/usr/lib64/python3.6/importlib/_bootstrap.py:219: RuntimeWarning: compiletime version 3.5 of module 'tensorflow.python.framework.fast_tensor_util' does not match runtime version 3.6\n",
      "  return f(*args, **kwds)\n",
      "Using TensorFlow backend.\n"
     ]
    }
   ],
   "source": [
    "import numpy as np\n",
    "import pandas as pd\n",
    "import matplotlib.pyplot as plt\n",
    "from sklearn import metrics\n",
    "from sklearn.model_selection import train_test_split\n",
    "from logger import logger\n",
    "import os\n",
    "import cv2\n",
    "import pydot\n",
    "import tensorflow as tf\n",
    "#-------------------------------------------------\n",
    "import keras.backend as K\n",
    "from keras.applications import inception_v3, inception_resnet_v2\n",
    "from keras import callbacks as Kcallbacks\n",
    "from keras.utils import plot_model\n",
    "from keras.models import Sequential, Model, load_model\n",
    "from keras.optimizers import Adam\n",
    "from keras.initializers import TruncatedNormal,glorot_uniform\n",
    "from keras.regularizers import l2\n",
    "from keras.layers import Dense, Conv2D, Input, Activation, ZeroPadding2D, BatchNormalization,\\\n",
    "    Flatten, MaxPooling2D, Dropout, concatenate, AveragePooling2D\n",
    "#-------------------------------------------------------------------------\n",
    "from tensorflow import losses as tflosses\n",
    "%matplotlib inline\n",
    "np.random.seed(40)\n",
    "seed = 40"
   ]
  },
  {
   "cell_type": "code",
   "execution_count": 2,
   "metadata": {},
   "outputs": [
    {
     "name": "stdout",
     "output_type": "stream",
     "text": [
      "(1604, 75, 75, 4) - (1604, 1)\n"
     ]
    }
   ],
   "source": [
    "train = np.load('./data/train/train_dataset.npy')\n",
    "labels = np.load('./data/train/labels.npy')\n",
    "print (train.shape, labels.shape, sep=' - ')"
   ]
  },
  {
   "cell_type": "code",
   "execution_count": null,
   "metadata": {},
   "outputs": [],
   "source": []
  },
  {
   "cell_type": "code",
   "execution_count": 3,
   "metadata": {},
   "outputs": [],
   "source": [
    "def prepare_test_data() :\n",
    "    test_dataset = np.load('./data/test/test_dataset.npy')\n",
    "    test_ids = np.load('./data/test/ids.npy')\n",
    "    print (test_dataset.shape, test_ids.shape, sep=' - ')\n",
    "    return test_dataset, test_ids"
   ]
  },
  {
   "cell_type": "code",
   "execution_count": 4,
   "metadata": {},
   "outputs": [
    {
     "name": "stdout",
     "output_type": "stream",
     "text": [
      "(6416, 75, 75, 4) - (6416, 1)\n"
     ]
    }
   ],
   "source": [
    "def get_more_images(imgs, epoches):\n",
    "    \n",
    "    more_images = []\n",
    "    rotated_imgs = []\n",
    "    for e in range(epoches) :\n",
    "        for i in range(0,imgs.shape[0]):\n",
    "            a=imgs[i,:,:,0]\n",
    "            b=imgs[i,:,:,1]\n",
    "            c=imgs[i,:,:,2]\n",
    "            d=imgs[i,:,:,3]\n",
    "            \n",
    "            #angle = np.random.randint(0,360)\n",
    "            scale = np.random.random(1) * .6 + 1\n",
    "            M = cv2.getRotationMatrix2D( (a.shape[0]/2,a.shape[1]/2),0 , scale)\n",
    "\n",
    "            a1 = cv2.warpAffine(a, M, a.shape)\n",
    "            b1 = cv2.warpAffine(b, M, a.shape)\n",
    "            c1 = cv2.warpAffine(c, M, a.shape)\n",
    "            d1 = cv2.warpAffine(d, M, a.shape)\n",
    "            \n",
    "            rotated_imgs.append(np.dstack((a1,b1,c1,d1)))\n",
    "            \n",
    "            \n",
    "    r = np.array(rotated_imgs)\n",
    "       \n",
    "    more_images = np.concatenate((imgs,r))\n",
    "    \n",
    "    return more_images\n",
    "\n",
    "#--------\n",
    "e = 3\n",
    "#---------\n",
    "if e == 0 :\n",
    "    train_ext = train.copy()\n",
    "    labels_ext = labels.copy()\n",
    "else :\n",
    "    train_ext = get_more_images(train, e)\n",
    "    labels_ext = np.concatenate([labels for i in range(e+1)])\n",
    "print (train_ext.shape, labels_ext.shape, sep=' - ')\n",
    "del train, labels"
   ]
  },
  {
   "cell_type": "code",
   "execution_count": 5,
   "metadata": {},
   "outputs": [
    {
     "name": "stdout",
     "output_type": "stream",
     "text": [
      "(6415, 75, 75, 4) - (6415, 1)\n",
      "(1, 75, 75, 4) - (1, 1)\n"
     ]
    }
   ],
   "source": [
    "# getting validation set\n",
    "train_dataset, valid_dataset, train_labels, valid_labels = train_test_split(train_ext, labels_ext,\n",
    "                                                                            test_size=.0000001,shuffle=True)\n",
    "\n",
    "\n",
    "print (train_dataset.shape, train_labels.shape, sep=' - ')\n",
    "print (valid_dataset.shape, valid_labels.shape, sep=' - ')\n",
    "\n",
    "del  train_ext, labels_ext"
   ]
  },
  {
   "cell_type": "markdown",
   "metadata": {},
   "source": [
    "------------------------"
   ]
  },
  {
   "cell_type": "code",
   "execution_count": 6,
   "metadata": {},
   "outputs": [
    {
     "name": "stdout",
     "output_type": "stream",
     "text": [
      " ** An iceberg\n"
     ]
    },
    {
     "data": {
      "image/png": "[encoded data removed]",
      "text/plain": [
       "<matplotlib.figure.Figure at 0x7f6a63513a20>"
      ]
     },
     "metadata": {},
     "output_type": "display_data"
    }
   ],
   "source": [
    "plt.rcParams[\"figure.figsize\"] = [15,15]\n",
    "index = np.random.randint(0, train_dataset.shape[0])\n",
    "f, axarr = plt.subplots(1,train_dataset.shape[3])\n",
    "for i in range(train_dataset.shape[3]):\n",
    "    _ = axarr[i].imshow(train_dataset[index,:,:,i])\n",
    "\n",
    "print (\" ** A ship\" if train_labels[index,0] == 1 else \" ** An iceberg\")"
   ]
  },
  {
   "cell_type": "code",
   "execution_count": null,
   "metadata": {},
   "outputs": [],
   "source": [
    "train_dataset = train_dataset[:,:,:,[2,3]]"
   ]
  },
  {
   "cell_type": "code",
   "execution_count": null,
   "metadata": {},
   "outputs": [],
   "source": []
  },
  {
   "cell_type": "code",
   "execution_count": 7,
   "metadata": {
    "scrolled": true
   },
   "outputs": [
    {
     "name": "stdout",
     "output_type": "stream",
     "text": [
      "_________________________________________________________________\n",
      "Layer (type)                 Output Shape              Param #   \n",
      "=================================================================\n",
      "input (InputLayer)           (None, 75, 75, 4)         0         \n",
      "_________________________________________________________________\n",
      "block1_dropout (Dropout)     (None, 75, 75, 4)         0         \n",
      "_________________________________________________________________\n",
      "block1_conv1 (Conv2D)        (None, 75, 75, 64)        2368      \n",
      "_________________________________________________________________\n",
      "block1_BN1 (BatchNormalizati (None, 75, 75, 64)        256       \n",
      "_________________________________________________________________\n",
      "block1_layer1 (Activation)   (None, 75, 75, 64)        0         \n",
      "_________________________________________________________________\n",
      "block1_conv2 (Conv2D)        (None, 75, 75, 64)        36928     \n",
      "_________________________________________________________________\n",
      "block1_BN2 (BatchNormalizati (None, 75, 75, 64)        256       \n",
      "_________________________________________________________________\n",
      "block1_layer2 (Activation)   (None, 75, 75, 64)        0         \n",
      "_________________________________________________________________\n",
      "block1_booled (MaxPooling2D) (None, 37, 37, 64)        0         \n",
      "_________________________________________________________________\n",
      "block2_dropout (Dropout)     (None, 37, 37, 64)        0         \n",
      "_________________________________________________________________\n",
      "block2_conv1 (Conv2D)        (None, 37, 37, 128)       73856     \n",
      "_________________________________________________________________\n",
      "block2_BN1 (BatchNormalizati (None, 37, 37, 128)       512       \n",
      "_________________________________________________________________\n",
      "block2_layer1 (Activation)   (None, 37, 37, 128)       0         \n",
      "_________________________________________________________________\n",
      "block2_conv2 (Conv2D)        (None, 37, 37, 128)       147584    \n",
      "_________________________________________________________________\n",
      "block2_BN2 (BatchNormalizati (None, 37, 37, 128)       512       \n",
      "_________________________________________________________________\n",
      "block2_layer2 (Activation)   (None, 37, 37, 128)       0         \n",
      "_________________________________________________________________\n",
      "block2_booled (MaxPooling2D) (None, 18, 18, 128)       0         \n",
      "_________________________________________________________________\n",
      "block3_dropout (Dropout)     (None, 18, 18, 128)       0         \n",
      "_________________________________________________________________\n",
      "block3_conv1 (Conv2D)        (None, 18, 18, 128)       147584    \n",
      "_________________________________________________________________\n",
      "block3_BN1 (BatchNormalizati (None, 18, 18, 128)       512       \n",
      "_________________________________________________________________\n",
      "block3_layer1 (Activation)   (None, 18, 18, 128)       0         \n",
      "_________________________________________________________________\n",
      "block3_conv2 (Conv2D)        (None, 18, 18, 128)       147584    \n",
      "_________________________________________________________________\n",
      "block3_BN2 (BatchNormalizati (None, 18, 18, 128)       512       \n",
      "_________________________________________________________________\n",
      "block3_layer2 (Activation)   (None, 18, 18, 128)       0         \n",
      "_________________________________________________________________\n",
      "block3_booled (MaxPooling2D) (None, 9, 9, 128)         0         \n",
      "_________________________________________________________________\n",
      "block5_dropout (Dropout)     (None, 9, 9, 128)         0         \n",
      "_________________________________________________________________\n",
      "block5_conv1 (Conv2D)        (None, 9, 9, 64)          73792     \n",
      "_________________________________________________________________\n",
      "block5_BN1 (BatchNormalizati (None, 9, 9, 64)          256       \n",
      "_________________________________________________________________\n",
      "block5_layer1 (Activation)   (None, 9, 9, 64)          0         \n",
      "_________________________________________________________________\n",
      "block5_conv2 (Conv2D)        (None, 9, 9, 64)          36928     \n",
      "_________________________________________________________________\n",
      "block5_BN2 (BatchNormalizati (None, 9, 9, 64)          256       \n",
      "_________________________________________________________________\n",
      "block5_layer2 (Activation)   (None, 9, 9, 64)          0         \n",
      "_________________________________________________________________\n",
      "block5_booled (MaxPooling2D) (None, 4, 4, 64)          0         \n",
      "_________________________________________________________________\n",
      "Flatten (Flatten)            (None, 1024)              0         \n",
      "_________________________________________________________________\n",
      "FC1_drop (Dropout)           (None, 1024)              0         \n",
      "_________________________________________________________________\n",
      "FC1 (Dense)                  (None, 256)               262400    \n",
      "_________________________________________________________________\n",
      "FC1_BN (BatchNormalization)  (None, 256)               1024      \n",
      "_________________________________________________________________\n",
      "FC2_drop (Dropout)           (None, 256)               0         \n",
      "_________________________________________________________________\n",
      "FC2 (Dense)                  (None, 256)               65792     \n",
      "_________________________________________________________________\n",
      "FC2_BN (BatchNormalization)  (None, 256)               1024      \n",
      "_________________________________________________________________\n",
      "FC3_drop (Dropout)           (None, 256)               0         \n",
      "_________________________________________________________________\n",
      "output (Dense)               (None, 1)                 257       \n",
      "=================================================================\n",
      "Total params: 1,000,193\n",
      "Trainable params: 997,633\n",
      "Non-trainable params: 2,560\n",
      "_________________________________________________________________\n"
     ]
    }
   ],
   "source": [
    "def block_2layers(X, block_id, filters):\n",
    "    X = Dropout(.2, name='block%s_dropout'%block_id)(X)\n",
    "    X = Conv2D(filters, 3, padding='same', name='block%s_conv1' % block_id)(X)\n",
    "    X = BatchNormalization(axis=3, name='block%s_BN1' % block_id)(X)\n",
    "    X = Activation('relu', name='block%s_layer1' % block_id)(X)\n",
    "    #--------------------------------------\n",
    "    X = Conv2D(filters, 3, padding='same', name='block%s_conv2'%block_id)(X)\n",
    "    X = BatchNormalization(axis=3, name='block%s_BN2'%block_id)(X)\n",
    "    X = Activation('relu', name='block%s_layer2'%block_id)(X)\n",
    "    #-------------------------------\n",
    "    X = MaxPooling2D(2, 2, name='block%s_booled'%block_id)(X)\n",
    "    return X\n",
    "#----------------------------------------------------\n",
    "def block_3layers(X, block_id, filters):\n",
    "    X = Dropout(.2, name='block%s_dropout'%block_id)(X)\n",
    "    X = Conv2D(filters, 3, padding='same', name='block%s_conv1' % block_id)(X)\n",
    "    X = BatchNormalization(axis=3, name='block%s_BN1' % block_id)(X)\n",
    "    X = Activation('relu', name='block%s_layer1' % block_id)(X)\n",
    "    #--------------------------------------\n",
    "    X = Conv2D(filters, 3, padding='same', name='block%s_conv2'%block_id)(X)\n",
    "    X = BatchNormalization(axis=3, name='block%s_BN2'%block_id)(X)\n",
    "    X = Activation('relu', name='block%s_layer2'%block_id)(X)\n",
    "    #--------------------------------------\n",
    "    X = Conv2D(filters, 3, padding='same', name='block%s_conv3'%block_id)(X)\n",
    "    X = BatchNormalization(axis=3, name='block%s_BN3'%block_id)(X)\n",
    "    X = Activation('relu', name='block%s_layer3'%block_id)(X)\n",
    "    #-------------------------------\n",
    "    X = MaxPooling2D(2, 2, name='block%s_booled'%block_id)(X)\n",
    "    return X\n",
    "#----------------------------------------------------\n",
    "def get_VGG_model(input_shape):\n",
    "    X_input = Input(input_shape, name='input')\n",
    "    # Block 1\n",
    "    X = block_2layers(X_input, '1', 64)\n",
    "    #Block 2\n",
    "    X = block_2layers(X, '2', 128)\n",
    "    X = block_2layers(X, '3', 128)\n",
    "    #X = block_2layers(X, '4', 128)\n",
    "    X = block_2layers(X, '5', 64)\n",
    "    #Block 3\n",
    "    #X = block_3layers(X, '3', 256)\n",
    "    #Block 4\n",
    "    #X = block_3layers(X, '4', 512)\n",
    "    #Block 5\n",
    "    #X = block_3layers(X, '5', 512)\n",
    "    # TOP\n",
    "    X = Flatten(name='Flatten')(X)\n",
    "    #FC1\n",
    "    X = Dropout(.2, name='FC1_drop')(X)\n",
    "    X = Dense(256, activation='relu', name='FC1',\n",
    "             kernel_initializer=glorot_uniform(seed),kernel_regularizer=l2())(X)\n",
    "    X = BatchNormalization(name='FC1_BN')(X)\n",
    "    #FC2\n",
    "    X = Dropout(.2, name='FC2_drop')(X)\n",
    "    X = Dense(256, activation='relu', name='FC2'\n",
    "              ,kernel_initializer=glorot_uniform(seed),kernel_regularizer=l2())(X)\n",
    "    X = BatchNormalization(name='FC2_BN')(X)\n",
    "    #OUTPUT\n",
    "    X = Dropout(.2, name='FC3_drop')(X)\n",
    "    X = Dense(1, activation='sigmoid', name='output',\n",
    "             kernel_initializer=glorot_uniform(seed),kernel_regularizer=l2())(X)\n",
    "    #----------------\n",
    "    model = Model(inputs=X_input, outputs=X)\n",
    "    return model\n",
    "#--------------------------------------------\n",
    "model = get_VGG_model([75,75,4])\n",
    "model.summary()"
   ]
  },
  {
   "cell_type": "code",
   "execution_count": null,
   "metadata": {},
   "outputs": [],
   "source": []
  },
  {
   "cell_type": "code",
   "execution_count": null,
   "metadata": {},
   "outputs": [],
   "source": [
    "#model.compile(Adam(lr=.001), loss='hinge',metrics=[tflosses.log_loss])"
   ]
  },
  {
   "cell_type": "code",
   "execution_count": 8,
   "metadata": {},
   "outputs": [],
   "source": [
    "model.compile(Adam(lr=.001), loss='binary_crossentropy',metrics=[])"
   ]
  },
  {
   "cell_type": "code",
   "execution_count": 9,
   "metadata": {
    "scrolled": true
   },
   "outputs": [
    {
     "name": "stdout",
     "output_type": "stream",
     "text": [
      "Train on 5132 samples, validate on 1283 samples\n",
      "Epoch 1/100\n",
      "5120/5132 [============================>.] - ETA: 2s - loss: 4.6935 Epoch 00001: val_loss improved from inf to 3.05858, saving model to ./tmp/keras/checkpoints/5/ckpt2-3.0586-01.hdf5\n",
      "5132/5132 [==============================] - 1405s 274ms/step - loss: 4.6890 - val_loss: 3.0586\n",
      "Epoch 2/100\n",
      "5120/5132 [============================>.] - ETA: 2s - loss: 1.7918Epoch 00002: val_loss improved from 3.05858 to 1.26454, saving model to ./tmp/keras/checkpoints/5/ckpt2-1.2645-02.hdf5\n",
      "5132/5132 [==============================] - 1210s 236ms/step - loss: 1.7904 - val_loss: 1.2645\n",
      "Epoch 3/100\n",
      "5120/5132 [============================>.] - ETA: 2s - loss: 0.8631 Epoch 00003: val_loss improved from 1.26454 to 0.77776, saving model to ./tmp/keras/checkpoints/5/ckpt2-0.7778-03.hdf5\n",
      "5132/5132 [==============================] - 1345s 262ms/step - loss: 0.8648 - val_loss: 0.7778\n",
      "Epoch 4/100\n",
      "5120/5132 [============================>.] - ETA: 2s - loss: 0.5396 Epoch 00004: val_loss did not improve\n",
      "5132/5132 [==============================] - 1404s 274ms/step - loss: 0.5393 - val_loss: 0.9708\n",
      "Epoch 5/100\n",
      "5120/5132 [============================>.] - ETA: 2s - loss: 0.4029 Epoch 00005: val_loss improved from 0.77776 to 0.35897, saving model to ./tmp/keras/checkpoints/5/ckpt2-0.3590-05.hdf5\n",
      "5132/5132 [==============================] - 1387s 270ms/step - loss: 0.4025 - val_loss: 0.3590\n",
      "Epoch 6/100\n",
      "5120/5132 [============================>.] - ETA: 3s - loss: 0.3286 Epoch 00006: val_loss did not improve\n",
      "5132/5132 [==============================] - 1483s 289ms/step - loss: 0.3295 - val_loss: 0.5664\n",
      "Epoch 7/100\n",
      "5120/5132 [============================>.] - ETA: 2s - loss: 0.2904 Epoch 00007: val_loss did not improve\n",
      "5132/5132 [==============================] - 1367s 266ms/step - loss: 0.2909 - val_loss: 0.6157\n",
      "Epoch 8/100\n",
      "5120/5132 [============================>.] - ETA: 2s - loss: 0.2889Epoch 00008: val_loss improved from 0.35897 to 0.33052, saving model to ./tmp/keras/checkpoints/5/ckpt2-0.3305-08.hdf5\n",
      "5132/5132 [==============================] - 1174s 229ms/step - loss: 0.2895 - val_loss: 0.3305\n",
      "Epoch 9/100\n",
      "5120/5132 [============================>.] - ETA: 2s - loss: 0.2660Epoch 00009: val_loss improved from 0.33052 to 0.30507, saving model to ./tmp/keras/checkpoints/5/ckpt2-0.3051-09.hdf5\n",
      "5132/5132 [==============================] - 1169s 228ms/step - loss: 0.2661 - val_loss: 0.3051\n",
      "Epoch 10/100\n",
      "5120/5132 [============================>.] - ETA: 2s - loss: 0.2511Epoch 00010: val_loss did not improve\n",
      "5132/5132 [==============================] - 1171s 228ms/step - loss: 0.2508 - val_loss: 0.4247\n",
      "Epoch 11/100\n",
      "5120/5132 [============================>.] - ETA: 2s - loss: 0.2352Epoch 00011: val_loss improved from 0.30507 to 0.22963, saving model to ./tmp/keras/checkpoints/5/ckpt2-0.2296-11.hdf5\n",
      "5132/5132 [==============================] - 1172s 228ms/step - loss: 0.2352 - val_loss: 0.2296\n",
      "Epoch 12/100\n",
      "5120/5132 [============================>.] - ETA: 2s - loss: 0.2297Epoch 00012: val_loss did not improve\n",
      "5132/5132 [==============================] - 1171s 228ms/step - loss: 0.2297 - val_loss: 0.3814\n",
      "Epoch 13/100\n",
      "5120/5132 [============================>.] - ETA: 2s - loss: 0.2235Epoch 00013: val_loss improved from 0.22963 to 0.21785, saving model to ./tmp/keras/checkpoints/5/ckpt2-0.2179-13.hdf5\n",
      "5132/5132 [==============================] - 1171s 228ms/step - loss: 0.2233 - val_loss: 0.2179\n",
      "Epoch 14/100\n",
      "5120/5132 [============================>.] - ETA: 2s - loss: 0.2009Epoch 00014: val_loss did not improve\n",
      "5132/5132 [==============================] - 1171s 228ms/step - loss: 0.2005 - val_loss: 0.2379\n",
      "Epoch 15/100\n",
      "5120/5132 [============================>.] - ETA: 2s - loss: 0.1918Epoch 00015: val_loss did not improve\n",
      "5132/5132 [==============================] - 1171s 228ms/step - loss: 0.1922 - val_loss: 0.2401\n",
      "Epoch 16/100\n",
      "5120/5132 [============================>.] - ETA: 2s - loss: 0.1945Epoch 00016: val_loss improved from 0.21785 to 0.19464, saving model to ./tmp/keras/checkpoints/5/ckpt2-0.1946-16.hdf5\n",
      "5132/5132 [==============================] - 1166s 227ms/step - loss: 0.1943 - val_loss: 0.1946\n",
      "Epoch 17/100\n",
      "5120/5132 [============================>.] - ETA: 2s - loss: 0.1834Epoch 00017: val_loss did not improve\n",
      "5132/5132 [==============================] - 1171s 228ms/step - loss: 0.1836 - val_loss: 0.2794\n",
      "Epoch 18/100\n",
      "5120/5132 [============================>.] - ETA: 2s - loss: 0.1750Epoch 00018: val_loss improved from 0.19464 to 0.16314, saving model to ./tmp/keras/checkpoints/5/ckpt2-0.1631-18.hdf5\n",
      "5132/5132 [==============================] - 1168s 228ms/step - loss: 0.1747 - val_loss: 0.1631\n",
      "Epoch 19/100\n",
      "5120/5132 [============================>.] - ETA: 2s - loss: 0.1666Epoch 00019: val_loss did not improve\n",
      "5132/5132 [==============================] - 1166s 227ms/step - loss: 0.1677 - val_loss: 0.1820\n",
      "Epoch 20/100\n",
      "5120/5132 [============================>.] - ETA: 2s - loss: 0.1648Epoch 00020: val_loss did not improve\n",
      "5132/5132 [==============================] - 1166s 227ms/step - loss: 0.1646 - val_loss: 0.2138\n",
      "Epoch 21/100\n",
      "5120/5132 [============================>.] - ETA: 2s - loss: 0.1560Epoch 00021: val_loss improved from 0.16314 to 0.14189, saving model to ./tmp/keras/checkpoints/5/ckpt2-0.1419-21.hdf5\n",
      "5132/5132 [==============================] - 1166s 227ms/step - loss: 0.1560 - val_loss: 0.1419\n",
      "Epoch 22/100\n",
      "5120/5132 [============================>.] - ETA: 2s - loss: 0.1445Epoch 00022: val_loss did not improve\n",
      "5132/5132 [==============================] - 1168s 228ms/step - loss: 0.1451 - val_loss: 0.2994\n",
      "Epoch 23/100\n",
      "5120/5132 [============================>.] - ETA: 2s - loss: 0.1452Epoch 00023: val_loss did not improve\n",
      "5132/5132 [==============================] - 1167s 227ms/step - loss: 0.1458 - val_loss: 0.2458\n",
      "Epoch 24/100\n",
      "5120/5132 [============================>.] - ETA: 2s - loss: 0.1412Epoch 00024: val_loss did not improve\n",
      "5132/5132 [==============================] - 1166s 227ms/step - loss: 0.1411 - val_loss: 0.1627\n",
      "Epoch 25/100\n",
      "5120/5132 [============================>.] - ETA: 2s - loss: 0.1362Epoch 00025: val_loss did not improve\n",
      "5132/5132 [==============================] - 1167s 227ms/step - loss: 0.1361 - val_loss: 0.2435\n",
      "Epoch 26/100\n",
      "5120/5132 [============================>.] - ETA: 2s - loss: 0.1380Epoch 00026: val_loss improved from 0.14189 to 0.14092, saving model to ./tmp/keras/checkpoints/5/ckpt2-0.1409-26.hdf5\n",
      "5132/5132 [==============================] - 1166s 227ms/step - loss: 0.1379 - val_loss: 0.1409\n",
      "Epoch 27/100\n",
      "5120/5132 [============================>.] - ETA: 2s - loss: 0.1104Epoch 00027: val_loss did not improve\n",
      "5132/5132 [==============================] - 1167s 227ms/step - loss: 0.1104 - val_loss: 0.4363\n",
      "Epoch 28/100\n",
      "5120/5132 [============================>.] - ETA: 2s - loss: 0.1175Epoch 00028: val_loss did not improve\n",
      "5132/5132 [==============================] - 1166s 227ms/step - loss: 0.1174 - val_loss: 0.2357\n",
      "Epoch 29/100\n",
      "5120/5132 [============================>.] - ETA: 2s - loss: 0.1028Epoch 00029: val_loss did not improve\n",
      "5132/5132 [==============================] - 1166s 227ms/step - loss: 0.1027 - val_loss: 0.5406\n",
      "Epoch 30/100\n",
      "5120/5132 [============================>.] - ETA: 2s - loss: 0.1122Epoch 00030: val_loss did not improve\n",
      "5132/5132 [==============================] - 1167s 227ms/step - loss: 0.1127 - val_loss: 0.1608\n",
      "Epoch 31/100\n",
      "5120/5132 [============================>.] - ETA: 2s - loss: 0.0944Epoch 00031: val_loss did not improve\n",
      "5132/5132 [==============================] - 1166s 227ms/step - loss: 0.0944 - val_loss: 0.1414\n",
      "Epoch 32/100\n",
      "5120/5132 [============================>.] - ETA: 2s - loss: 0.1008Epoch 00032: val_loss improved from 0.14092 to 0.13054, saving model to ./tmp/keras/checkpoints/5/ckpt2-0.1305-32.hdf5\n",
      "5132/5132 [==============================] - 1167s 227ms/step - loss: 0.1008 - val_loss: 0.1305\n",
      "Epoch 33/100\n",
      "5120/5132 [============================>.] - ETA: 2s - loss: 0.0879Epoch 00033: val_loss did not improve\n",
      "5132/5132 [==============================] - 1166s 227ms/step - loss: 0.0878 - val_loss: 0.1735\n",
      "Epoch 34/100\n"
     ]
    },
    {
     "name": "stdout",
     "output_type": "stream",
     "text": [
      "5120/5132 [============================>.] - ETA: 2s - loss: 0.0967Epoch 00034: val_loss did not improve\n",
      "5132/5132 [==============================] - 1164s 227ms/step - loss: 0.0966 - val_loss: 0.1621\n",
      "Epoch 35/100\n",
      "5120/5132 [============================>.] - ETA: 2s - loss: 0.0773Epoch 00035: val_loss did not improve\n",
      "5132/5132 [==============================] - 1165s 227ms/step - loss: 0.0773 - val_loss: 0.3658\n",
      "Epoch 36/100\n",
      "5120/5132 [============================>.] - ETA: 2s - loss: 0.0971Epoch 00036: val_loss improved from 0.13054 to 0.08770, saving model to ./tmp/keras/checkpoints/5/ckpt2-0.0877-36.hdf5\n",
      "5132/5132 [==============================] - 1172s 228ms/step - loss: 0.0970 - val_loss: 0.0877\n",
      "Epoch 37/100\n",
      "5120/5132 [============================>.] - ETA: 2s - loss: 0.0940Epoch 00037: val_loss did not improve\n",
      "5132/5132 [==============================] - 1173s 229ms/step - loss: 0.0943 - val_loss: 0.1058\n",
      "Epoch 38/100\n",
      "5120/5132 [============================>.] - ETA: 2s - loss: 0.0973Epoch 00038: val_loss did not improve\n",
      "5132/5132 [==============================] - 1170s 228ms/step - loss: 0.0975 - val_loss: 0.1292\n",
      "Epoch 39/100\n",
      "5120/5132 [============================>.] - ETA: 2s - loss: 0.0794Epoch 00039: val_loss did not improve\n",
      "5132/5132 [==============================] - 1169s 228ms/step - loss: 0.0795 - val_loss: 0.2459\n",
      "Epoch 40/100\n",
      "5120/5132 [============================>.] - ETA: 2s - loss: 0.0920Epoch 00040: val_loss did not improve\n",
      "5132/5132 [==============================] - 1171s 228ms/step - loss: 0.0920 - val_loss: 0.2630\n",
      "Epoch 41/100\n",
      "5120/5132 [============================>.] - ETA: 2s - loss: 0.0894Epoch 00041: val_loss did not improve\n",
      "5132/5132 [==============================] - 1171s 228ms/step - loss: 0.0893 - val_loss: 0.1109\n",
      "Epoch 42/100\n",
      "5120/5132 [============================>.] - ETA: 2s - loss: 0.1031Epoch 00042: val_loss did not improve\n",
      "5132/5132 [==============================] - 1170s 228ms/step - loss: 0.1031 - val_loss: 0.1170\n",
      "Epoch 43/100\n",
      "5120/5132 [============================>.] - ETA: 2s - loss: 0.0779Epoch 00043: val_loss did not improve\n",
      "5132/5132 [==============================] - 1172s 228ms/step - loss: 0.0778 - val_loss: 0.1053\n",
      "Epoch 44/100\n",
      "5120/5132 [============================>.] - ETA: 2s - loss: 0.0614Epoch 00044: val_loss did not improve\n",
      "5132/5132 [==============================] - 1178s 230ms/step - loss: 0.0700 - val_loss: 0.1156\n",
      "Epoch 45/100\n",
      "5120/5132 [============================>.] - ETA: 2s - loss: 0.0883Epoch 00045: val_loss did not improve\n",
      "5132/5132 [==============================] - 1176s 229ms/step - loss: 0.0883 - val_loss: 0.1098\n",
      "Epoch 46/100\n",
      "5120/5132 [============================>.] - ETA: 2s - loss: 0.0673Epoch 00046: val_loss did not improve\n",
      "5132/5132 [==============================] - 1176s 229ms/step - loss: 0.0683 - val_loss: 0.1136\n",
      "Epoch 47/100\n",
      "5120/5132 [============================>.] - ETA: 4s - loss: 0.0828 \n",
      "Epoch 00047: reducing learning rate to 0.00010000000474974513.\n",
      "Epoch 00047: val_loss did not improve\n",
      "5132/5132 [==============================] - 2012s 392ms/step - loss: 0.0827 - val_loss: 0.2152\n",
      "Epoch 48/100\n",
      "5120/5132 [============================>.] - ETA: 3s - loss: 0.0501 Epoch 00048: val_loss did not improve\n",
      "5132/5132 [==============================] - 1404s 274ms/step - loss: 0.0500 - val_loss: 0.0993\n",
      "Epoch 49/100\n",
      "  32/5132 [..............................] - ETA: 18:43 - loss: 0.0570"
     ]
    },
    {
     "ename": "KeyboardInterrupt",
     "evalue": "",
     "output_type": "error",
     "traceback": [
      "\u001b[0;31m---------------------------------------------------------------------------\u001b[0m",
      "\u001b[0;31mKeyboardInterrupt\u001b[0m                         Traceback (most recent call last)",
      "\u001b[0;32m<ipython-input-9-d258eea770e4>\u001b[0m in \u001b[0;36m<module>\u001b[0;34m()\u001b[0m\n\u001b[1;32m      9\u001b[0m \u001b[0;34m\u001b[0m\u001b[0m\n\u001b[1;32m     10\u001b[0m model.fit(x=train_dataset, y=train_labels, batch_size=32, epochs=100, shuffle=True, verbose=1, \n\u001b[0;32m---> 11\u001b[0;31m           validation_split=.2, callbacks=callbacks)\n\u001b[0m",
      "\u001b[0;32m/usr/local/lib64/python3.6/site-packages/keras/engine/training.py\u001b[0m in \u001b[0;36mfit\u001b[0;34m(self, x, y, batch_size, epochs, verbose, callbacks, validation_split, validation_data, shuffle, class_weight, sample_weight, initial_epoch, steps_per_epoch, validation_steps, **kwargs)\u001b[0m\n\u001b[1;32m   1655\u001b[0m                               \u001b[0minitial_epoch\u001b[0m\u001b[0;34m=\u001b[0m\u001b[0minitial_epoch\u001b[0m\u001b[0;34m,\u001b[0m\u001b[0;34m\u001b[0m\u001b[0m\n\u001b[1;32m   1656\u001b[0m                               \u001b[0msteps_per_epoch\u001b[0m\u001b[0;34m=\u001b[0m\u001b[0msteps_per_epoch\u001b[0m\u001b[0;34m,\u001b[0m\u001b[0;34m\u001b[0m\u001b[0m\n\u001b[0;32m-> 1657\u001b[0;31m                               validation_steps=validation_steps)\n\u001b[0m\u001b[1;32m   1658\u001b[0m \u001b[0;34m\u001b[0m\u001b[0m\n\u001b[1;32m   1659\u001b[0m     def evaluate(self, x=None, y=None,\n",
      "\u001b[0;32m/usr/local/lib64/python3.6/site-packages/keras/engine/training.py\u001b[0m in \u001b[0;36m_fit_loop\u001b[0;34m(self, f, ins, out_labels, batch_size, epochs, verbose, callbacks, val_f, val_ins, shuffle, callback_metrics, initial_epoch, steps_per_epoch, validation_steps)\u001b[0m\n\u001b[1;32m   1211\u001b[0m                     \u001b[0mbatch_logs\u001b[0m\u001b[0;34m[\u001b[0m\u001b[0;34m'size'\u001b[0m\u001b[0;34m]\u001b[0m \u001b[0;34m=\u001b[0m \u001b[0mlen\u001b[0m\u001b[0;34m(\u001b[0m\u001b[0mbatch_ids\u001b[0m\u001b[0;34m)\u001b[0m\u001b[0;34m\u001b[0m\u001b[0m\n\u001b[1;32m   1212\u001b[0m                     \u001b[0mcallbacks\u001b[0m\u001b[0;34m.\u001b[0m\u001b[0mon_batch_begin\u001b[0m\u001b[0;34m(\u001b[0m\u001b[0mbatch_index\u001b[0m\u001b[0;34m,\u001b[0m \u001b[0mbatch_logs\u001b[0m\u001b[0;34m)\u001b[0m\u001b[0;34m\u001b[0m\u001b[0m\n\u001b[0;32m-> 1213\u001b[0;31m                     \u001b[0mouts\u001b[0m \u001b[0;34m=\u001b[0m \u001b[0mf\u001b[0m\u001b[0;34m(\u001b[0m\u001b[0mins_batch\u001b[0m\u001b[0;34m)\u001b[0m\u001b[0;34m\u001b[0m\u001b[0m\n\u001b[0m\u001b[1;32m   1214\u001b[0m                     \u001b[0;32mif\u001b[0m \u001b[0;32mnot\u001b[0m \u001b[0misinstance\u001b[0m\u001b[0;34m(\u001b[0m\u001b[0mouts\u001b[0m\u001b[0;34m,\u001b[0m \u001b[0mlist\u001b[0m\u001b[0;34m)\u001b[0m\u001b[0;34m:\u001b[0m\u001b[0;34m\u001b[0m\u001b[0m\n\u001b[1;32m   1215\u001b[0m                         \u001b[0mouts\u001b[0m \u001b[0;34m=\u001b[0m \u001b[0;34m[\u001b[0m\u001b[0mouts\u001b[0m\u001b[0;34m]\u001b[0m\u001b[0;34m\u001b[0m\u001b[0m\n",
      "\u001b[0;32m/usr/local/lib64/python3.6/site-packages/keras/backend/tensorflow_backend.py\u001b[0m in \u001b[0;36m__call__\u001b[0;34m(self, inputs)\u001b[0m\n\u001b[1;32m   2355\u001b[0m         \u001b[0msession\u001b[0m \u001b[0;34m=\u001b[0m \u001b[0mget_session\u001b[0m\u001b[0;34m(\u001b[0m\u001b[0;34m)\u001b[0m\u001b[0;34m\u001b[0m\u001b[0m\n\u001b[1;32m   2356\u001b[0m         updated = session.run(fetches=fetches, feed_dict=feed_dict,\n\u001b[0;32m-> 2357\u001b[0;31m                               **self.session_kwargs)\n\u001b[0m\u001b[1;32m   2358\u001b[0m         \u001b[0;32mreturn\u001b[0m \u001b[0mupdated\u001b[0m\u001b[0;34m[\u001b[0m\u001b[0;34m:\u001b[0m\u001b[0mlen\u001b[0m\u001b[0;34m(\u001b[0m\u001b[0mself\u001b[0m\u001b[0;34m.\u001b[0m\u001b[0moutputs\u001b[0m\u001b[0;34m)\u001b[0m\u001b[0;34m]\u001b[0m\u001b[0;34m\u001b[0m\u001b[0m\n\u001b[1;32m   2359\u001b[0m \u001b[0;34m\u001b[0m\u001b[0m\n",
      "\u001b[0;32m/usr/local/lib/python3.6/site-packages/tensorflow/python/client/session.py\u001b[0m in \u001b[0;36mrun\u001b[0;34m(self, fetches, feed_dict, options, run_metadata)\u001b[0m\n\u001b[1;32m    887\u001b[0m     \u001b[0;32mtry\u001b[0m\u001b[0;34m:\u001b[0m\u001b[0;34m\u001b[0m\u001b[0m\n\u001b[1;32m    888\u001b[0m       result = self._run(None, fetches, feed_dict, options_ptr,\n\u001b[0;32m--> 889\u001b[0;31m                          run_metadata_ptr)\n\u001b[0m\u001b[1;32m    890\u001b[0m       \u001b[0;32mif\u001b[0m \u001b[0mrun_metadata\u001b[0m\u001b[0;34m:\u001b[0m\u001b[0;34m\u001b[0m\u001b[0m\n\u001b[1;32m    891\u001b[0m         \u001b[0mproto_data\u001b[0m \u001b[0;34m=\u001b[0m \u001b[0mtf_session\u001b[0m\u001b[0;34m.\u001b[0m\u001b[0mTF_GetBuffer\u001b[0m\u001b[0;34m(\u001b[0m\u001b[0mrun_metadata_ptr\u001b[0m\u001b[0;34m)\u001b[0m\u001b[0;34m\u001b[0m\u001b[0m\n",
      "\u001b[0;32m/usr/local/lib/python3.6/site-packages/tensorflow/python/client/session.py\u001b[0m in \u001b[0;36m_run\u001b[0;34m(self, handle, fetches, feed_dict, options, run_metadata)\u001b[0m\n\u001b[1;32m   1118\u001b[0m     \u001b[0;32mif\u001b[0m \u001b[0mfinal_fetches\u001b[0m \u001b[0;32mor\u001b[0m \u001b[0mfinal_targets\u001b[0m \u001b[0;32mor\u001b[0m \u001b[0;34m(\u001b[0m\u001b[0mhandle\u001b[0m \u001b[0;32mand\u001b[0m \u001b[0mfeed_dict_tensor\u001b[0m\u001b[0;34m)\u001b[0m\u001b[0;34m:\u001b[0m\u001b[0;34m\u001b[0m\u001b[0m\n\u001b[1;32m   1119\u001b[0m       results = self._do_run(handle, final_targets, final_fetches,\n\u001b[0;32m-> 1120\u001b[0;31m                              feed_dict_tensor, options, run_metadata)\n\u001b[0m\u001b[1;32m   1121\u001b[0m     \u001b[0;32melse\u001b[0m\u001b[0;34m:\u001b[0m\u001b[0;34m\u001b[0m\u001b[0m\n\u001b[1;32m   1122\u001b[0m       \u001b[0mresults\u001b[0m \u001b[0;34m=\u001b[0m \u001b[0;34m[\u001b[0m\u001b[0;34m]\u001b[0m\u001b[0;34m\u001b[0m\u001b[0m\n",
      "\u001b[0;32m/usr/local/lib/python3.6/site-packages/tensorflow/python/client/session.py\u001b[0m in \u001b[0;36m_do_run\u001b[0;34m(self, handle, target_list, fetch_list, feed_dict, options, run_metadata)\u001b[0m\n\u001b[1;32m   1315\u001b[0m     \u001b[0;32mif\u001b[0m \u001b[0mhandle\u001b[0m \u001b[0;32mis\u001b[0m \u001b[0;32mNone\u001b[0m\u001b[0;34m:\u001b[0m\u001b[0;34m\u001b[0m\u001b[0m\n\u001b[1;32m   1316\u001b[0m       return self._do_call(_run_fn, self._session, feeds, fetches, targets,\n\u001b[0;32m-> 1317\u001b[0;31m                            options, run_metadata)\n\u001b[0m\u001b[1;32m   1318\u001b[0m     \u001b[0;32melse\u001b[0m\u001b[0;34m:\u001b[0m\u001b[0;34m\u001b[0m\u001b[0m\n\u001b[1;32m   1319\u001b[0m       \u001b[0;32mreturn\u001b[0m \u001b[0mself\u001b[0m\u001b[0;34m.\u001b[0m\u001b[0m_do_call\u001b[0m\u001b[0;34m(\u001b[0m\u001b[0m_prun_fn\u001b[0m\u001b[0;34m,\u001b[0m \u001b[0mself\u001b[0m\u001b[0;34m.\u001b[0m\u001b[0m_session\u001b[0m\u001b[0;34m,\u001b[0m \u001b[0mhandle\u001b[0m\u001b[0;34m,\u001b[0m \u001b[0mfeeds\u001b[0m\u001b[0;34m,\u001b[0m \u001b[0mfetches\u001b[0m\u001b[0;34m)\u001b[0m\u001b[0;34m\u001b[0m\u001b[0m\n",
      "\u001b[0;32m/usr/local/lib/python3.6/site-packages/tensorflow/python/client/session.py\u001b[0m in \u001b[0;36m_do_call\u001b[0;34m(self, fn, *args)\u001b[0m\n\u001b[1;32m   1321\u001b[0m   \u001b[0;32mdef\u001b[0m \u001b[0m_do_call\u001b[0m\u001b[0;34m(\u001b[0m\u001b[0mself\u001b[0m\u001b[0;34m,\u001b[0m \u001b[0mfn\u001b[0m\u001b[0;34m,\u001b[0m \u001b[0;34m*\u001b[0m\u001b[0margs\u001b[0m\u001b[0;34m)\u001b[0m\u001b[0;34m:\u001b[0m\u001b[0;34m\u001b[0m\u001b[0m\n\u001b[1;32m   1322\u001b[0m     \u001b[0;32mtry\u001b[0m\u001b[0;34m:\u001b[0m\u001b[0;34m\u001b[0m\u001b[0m\n\u001b[0;32m-> 1323\u001b[0;31m       \u001b[0;32mreturn\u001b[0m \u001b[0mfn\u001b[0m\u001b[0;34m(\u001b[0m\u001b[0;34m*\u001b[0m\u001b[0margs\u001b[0m\u001b[0;34m)\u001b[0m\u001b[0;34m\u001b[0m\u001b[0m\n\u001b[0m\u001b[1;32m   1324\u001b[0m     \u001b[0;32mexcept\u001b[0m \u001b[0merrors\u001b[0m\u001b[0;34m.\u001b[0m\u001b[0mOpError\u001b[0m \u001b[0;32mas\u001b[0m \u001b[0me\u001b[0m\u001b[0;34m:\u001b[0m\u001b[0;34m\u001b[0m\u001b[0m\n\u001b[1;32m   1325\u001b[0m       \u001b[0mmessage\u001b[0m \u001b[0;34m=\u001b[0m \u001b[0mcompat\u001b[0m\u001b[0;34m.\u001b[0m\u001b[0mas_text\u001b[0m\u001b[0;34m(\u001b[0m\u001b[0me\u001b[0m\u001b[0;34m.\u001b[0m\u001b[0mmessage\u001b[0m\u001b[0;34m)\u001b[0m\u001b[0;34m\u001b[0m\u001b[0m\n",
      "\u001b[0;32m/usr/local/lib/python3.6/site-packages/tensorflow/python/client/session.py\u001b[0m in \u001b[0;36m_run_fn\u001b[0;34m(session, feed_dict, fetch_list, target_list, options, run_metadata)\u001b[0m\n\u001b[1;32m   1300\u001b[0m           return tf_session.TF_Run(session, options,\n\u001b[1;32m   1301\u001b[0m                                    \u001b[0mfeed_dict\u001b[0m\u001b[0;34m,\u001b[0m \u001b[0mfetch_list\u001b[0m\u001b[0;34m,\u001b[0m \u001b[0mtarget_list\u001b[0m\u001b[0;34m,\u001b[0m\u001b[0;34m\u001b[0m\u001b[0m\n\u001b[0;32m-> 1302\u001b[0;31m                                    status, run_metadata)\n\u001b[0m\u001b[1;32m   1303\u001b[0m \u001b[0;34m\u001b[0m\u001b[0m\n\u001b[1;32m   1304\u001b[0m     \u001b[0;32mdef\u001b[0m \u001b[0m_prun_fn\u001b[0m\u001b[0;34m(\u001b[0m\u001b[0msession\u001b[0m\u001b[0;34m,\u001b[0m \u001b[0mhandle\u001b[0m\u001b[0;34m,\u001b[0m \u001b[0mfeed_dict\u001b[0m\u001b[0;34m,\u001b[0m \u001b[0mfetch_list\u001b[0m\u001b[0;34m)\u001b[0m\u001b[0;34m:\u001b[0m\u001b[0;34m\u001b[0m\u001b[0m\n",
      "\u001b[0;31mKeyboardInterrupt\u001b[0m: "
     ]
    }
   ],
   "source": [
    "callbacks = [ \n",
    "    Kcallbacks.EarlyStopping(patience=20, verbose=1, mode='min'),\n",
    "    Kcallbacks.History(),\n",
    "    Kcallbacks.CSVLogger('./tmp/keras/checkpoints/5/logger2.log', append=True),\n",
    "    Kcallbacks.ReduceLROnPlateau(factor=.1, patience=10, verbose=1),\n",
    "    Kcallbacks.ModelCheckpoint('./tmp/keras/checkpoints/5/ckpt2-{val_loss:.4f}-{epoch:02d}.hdf5',\n",
    "                               verbose=1, save_best_only=1, mode='min')\n",
    "] \n",
    "\n",
    "model.fit(x=train_dataset, y=train_labels, batch_size=32, epochs=100, shuffle=True, verbose=1, \n",
    "          validation_split=.2, callbacks=callbacks)"
   ]
  },
  {
   "cell_type": "code",
   "execution_count": null,
   "metadata": {},
   "outputs": [],
   "source": [
    "model.evaluate(train_dataset, train_labels)"
   ]
  },
  {
   "cell_type": "code",
   "execution_count": null,
   "metadata": {},
   "outputs": [],
   "source": [
    "best_model.evaluate(train_dataset[2500:2700], train_labels[2500:2700])"
   ]
  },
  {
   "cell_type": "code",
   "execution_count": 10,
   "metadata": {},
   "outputs": [],
   "source": [
    "def predict_test_dataset(model, subid):\n",
    "    test_data, test_ids = prepare_test_data()\n",
    "    #test_data = test_data[:,:,:,[2,3]]\n",
    "    test_preds = model.predict(test_data, batch_size=200, verbose=1)\n",
    "    sub_df = pd.DataFrame({'id':test_ids, 'is_iceberg':test_preds.reshape((-1))})\n",
    "    sub_df.to_csv('./tmp/keras/checkpoints/5/submission-{}'.format(subid), index=False)"
   ]
  },
  {
   "cell_type": "code",
   "execution_count": 11,
   "metadata": {
    "scrolled": true
   },
   "outputs": [
    {
     "name": "stdout",
     "output_type": "stream",
     "text": [
      "(8424, 75, 75, 4) - (8424,)\n",
      "8424/8424 [==============================] - 741s 88ms/step\n"
     ]
    }
   ],
   "source": [
    "predict_test_dataset(model, '.09')"
   ]
  },
  {
   "cell_type": "code",
   "execution_count": null,
   "metadata": {},
   "outputs": [],
   "source": [
    "best_model = load_model('./tmp/keras/checkpoints/1/ckpt-0.2062-34.hdf5',\n",
    "                        custom_objects={'log_loss':tflosses.log_loss})"
   ]
  },
  {
   "cell_type": "code",
   "execution_count": null,
   "metadata": {},
   "outputs": [],
   "source": [
    "plot_model(best_model, to_file='./model.png')"
   ]
  },
  {
   "cell_type": "code",
   "execution_count": null,
   "metadata": {},
   "outputs": [],
   "source": [
    "from IPython.display import SVG\n",
    "from keras.utils.vis_utils import model_to_dot"
   ]
  },
  {
   "cell_type": "markdown",
   "metadata": {
    "scrolled": false
   },
   "source": [
    "------------------------------------"
   ]
  },
  {
   "cell_type": "code",
   "execution_count": null,
   "metadata": {},
   "outputs": [],
   "source": [
    "X_input = Input([75,75,4], name='X_input')\n",
    "model = inception_v3.InceptionV3(input_tensor=X_input, pooling='max', classes=1, weights=None)"
   ]
  },
  {
   "cell_type": "code",
   "execution_count": null,
   "metadata": {},
   "outputs": [],
   "source": [
    "inc_model.summary()"
   ]
  },
  {
   "cell_type": "code",
   "execution_count": null,
   "metadata": {},
   "outputs": [],
   "source": []
  }
 ],
 "metadata": {
  "kernelspec": {
   "display_name": "Python 3",
   "language": "python",
   "name": "python3"
  },
  "language_info": {
   "codemirror_mode": {
    "name": "ipython",
    "version": 3
   },
   "file_extension": ".py",
   "mimetype": "text/x-python",
   "name": "python",
   "nbconvert_exporter": "python",
   "pygments_lexer": "ipython3",
   "version": "3.6.3"
  }
 },
 "nbformat": 4,
 "nbformat_minor": 2
}
